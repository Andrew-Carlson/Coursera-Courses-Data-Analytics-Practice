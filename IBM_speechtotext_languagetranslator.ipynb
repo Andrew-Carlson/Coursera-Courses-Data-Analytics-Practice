{
 "cells": [
  {
   "cell_type": "code",
   "execution_count": 1,
   "id": "20be4d80-af63-443a-b43e-c08b0f5a01a3",
   "metadata": {},
   "outputs": [
    {
     "name": "stdout",
     "output_type": "stream",
     "text": [
      "Requirement already satisfied: ibm_watson in /home/jupyterlab/conda/envs/python/lib/python3.7/site-packages (5.3.1)\n",
      "Requirement already satisfied: wget in /home/jupyterlab/conda/envs/python/lib/python3.7/site-packages (3.2)\n",
      "Requirement already satisfied: websocket-client==1.1.0 in /home/jupyterlab/conda/envs/python/lib/python3.7/site-packages (from ibm_watson) (1.1.0)\n",
      "Requirement already satisfied: requests<3.0,>=2.0 in /home/jupyterlab/conda/envs/python/lib/python3.7/site-packages (from ibm_watson) (2.26.0)\n",
      "Requirement already satisfied: python-dateutil>=2.5.3 in /home/jupyterlab/conda/envs/python/lib/python3.7/site-packages (from ibm_watson) (2.8.2)\n",
      "Requirement already satisfied: ibm-cloud-sdk-core==3.*,>=3.3.6 in /home/jupyterlab/conda/envs/python/lib/python3.7/site-packages (from ibm_watson) (3.14.0)\n",
      "Requirement already satisfied: PyJWT<3.0.0,>=2.0.1 in /home/jupyterlab/conda/envs/python/lib/python3.7/site-packages (from ibm-cloud-sdk-core==3.*,>=3.3.6->ibm_watson) (2.3.0)\n",
      "Requirement already satisfied: urllib3<2.0.0,>=1.26.0 in /home/jupyterlab/conda/envs/python/lib/python3.7/site-packages (from ibm-cloud-sdk-core==3.*,>=3.3.6->ibm_watson) (1.26.7)\n",
      "Requirement already satisfied: six>=1.5 in /home/jupyterlab/conda/envs/python/lib/python3.7/site-packages (from python-dateutil>=2.5.3->ibm_watson) (1.16.0)\n",
      "Requirement already satisfied: certifi>=2017.4.17 in /home/jupyterlab/conda/envs/python/lib/python3.7/site-packages (from requests<3.0,>=2.0->ibm_watson) (2021.10.8)\n",
      "Requirement already satisfied: idna<4,>=2.5 in /home/jupyterlab/conda/envs/python/lib/python3.7/site-packages (from requests<3.0,>=2.0->ibm_watson) (3.1)\n",
      "Requirement already satisfied: charset-normalizer~=2.0.0 in /home/jupyterlab/conda/envs/python/lib/python3.7/site-packages (from requests<3.0,>=2.0->ibm_watson) (2.0.8)\n"
     ]
    }
   ],
   "source": [
    "!pip install ibm_watson wget"
   ]
  },
  {
   "cell_type": "code",
   "execution_count": 2,
   "id": "24c3a942-9bc4-44a7-a880-c7fe4acaffe5",
   "metadata": {},
   "outputs": [],
   "source": [
    "from ibm_watson import SpeechToTextV1 \n",
    "import json\n",
    "from ibm_cloud_sdk_core.authenticators import IAMAuthenticator"
   ]
  },
  {
   "cell_type": "code",
   "execution_count": 3,
   "id": "dfa7c795-f39e-4296-a589-9fe4f07f0271",
   "metadata": {},
   "outputs": [],
   "source": [
    "url_s2t = \"https://api.us-south.speech-to-text.watson.cloud.ibm.com/instances/6e971d71-cfe3-4346-8b7e-4f998067bbca\""
   ]
  },
  {
   "cell_type": "code",
   "execution_count": 4,
   "id": "56acb1bd-e04f-4f93-9e02-906c5c2714a6",
   "metadata": {},
   "outputs": [],
   "source": [
    "iam_apikey_s2t = \"xzXaiN45TTL80Vp2tnIJBLK_v6P97P4hjSe_leEtBJQk\""
   ]
  },
  {
   "cell_type": "code",
   "execution_count": 5,
   "id": "054d7397-65d2-419c-b100-8399d4822b82",
   "metadata": {},
   "outputs": [
    {
     "data": {
      "text/plain": [
       "<ibm_watson.speech_to_text_v1_adapter.SpeechToTextV1Adapter at 0x7f0f6146a3d0>"
      ]
     },
     "execution_count": 5,
     "metadata": {},
     "output_type": "execute_result"
    }
   ],
   "source": [
    "authenticator = IAMAuthenticator(iam_apikey_s2t)\n",
    "s2t = SpeechToTextV1(authenticator=authenticator)\n",
    "s2t.set_service_url(url_s2t)\n",
    "s2t"
   ]
  },
  {
   "cell_type": "code",
   "execution_count": 6,
   "id": "abdc5153-edcf-4d45-b4d7-15b02fec247b",
   "metadata": {},
   "outputs": [
    {
     "name": "stdout",
     "output_type": "stream",
     "text": [
      "--2022-02-08 04:58:21--  https://cf-courses-data.s3.us.cloud-object-storage.appdomain.cloud/IBMDeveloperSkillsNetwork-PY0101EN-SkillsNetwork/labs/Module%205/data/PolynomialRegressionandPipelines.mp3\n",
      "Resolving cf-courses-data.s3.us.cloud-object-storage.appdomain.cloud (cf-courses-data.s3.us.cloud-object-storage.appdomain.cloud)... 169.63.118.104\n",
      "Connecting to cf-courses-data.s3.us.cloud-object-storage.appdomain.cloud (cf-courses-data.s3.us.cloud-object-storage.appdomain.cloud)|169.63.118.104|:443... connected.\n",
      "HTTP request sent, awaiting response... 200 OK\n",
      "Length: 4234179 (4.0M) [audio/mpeg]\n",
      "Saving to: ‘PolynomialRegressionandPipelines.mp3’\n",
      "\n",
      "PolynomialRegressio 100%[===================>]   4.04M  7.83MB/s    in 0.5s    \n",
      "\n",
      "2022-02-08 04:58:21 (7.83 MB/s) - ‘PolynomialRegressionandPipelines.mp3’ saved [4234179/4234179]\n",
      "\n"
     ]
    }
   ],
   "source": [
    "#downlaod audio file\n",
    "\n",
    "!wget -O PolynomialRegressionandPipelines.mp3  https://cf-courses-data.s3.us.cloud-object-storage.appdomain.cloud/IBMDeveloperSkillsNetwork-PY0101EN-SkillsNetwork/labs/Module%205/data/PolynomialRegressionandPipelines.mp3\n"
   ]
  },
  {
   "cell_type": "code",
   "execution_count": 7,
   "id": "9509ca33-9fe4-4e9a-b4b4-f795f9ef32ce",
   "metadata": {},
   "outputs": [],
   "source": [
    "#We have the path of the .wav file we would like to convert to text\n",
    "\n",
    "filename='PolynomialRegressionandPipelines.mp3'"
   ]
  },
  {
   "cell_type": "code",
   "execution_count": 8,
   "id": "6335c006-3c5c-438a-a64f-640551aa686b",
   "metadata": {},
   "outputs": [],
   "source": [
    "#We create the file object wav with the wav file using open. We set the mode to \"rb\" , this is similar to read mode, but it ensures the file is in binary mode. We use the method recognize to return the recognized text. The parameter audio is the file object wav, the parameter content_type is the format of the audio file.\n",
    "\n",
    "with open(filename, mode=\"rb\")  as wav:\n",
    "    response = s2t.recognize(audio=wav, content_type='audio/mp3')"
   ]
  },
  {
   "cell_type": "code",
   "execution_count": 9,
   "id": "89e28011-b56b-43f3-bf46-0e94fdefe859",
   "metadata": {},
   "outputs": [
    {
     "data": {
      "text/plain": [
       "{'result_index': 0,\n",
       " 'results': [{'final': True,\n",
       "   'alternatives': [{'transcript': 'in this video we will cover polynomial regression and pipelines ',\n",
       "     'confidence': 0.94}]},\n",
       "  {'final': True,\n",
       "   'alternatives': [{'transcript': \"what do we do when a linear model is not the best fit for our data let's look into another type of regression model the polynomial regression we transform our data into a polynomial then use linear regression to fit the parameters that we will discuss pipelines pipelines are way to simplify your code \",\n",
       "     'confidence': 0.9}]},\n",
       "  {'final': True,\n",
       "   'alternatives': [{'transcript': \"polynomial regression is a special case of the general linear regression this method is beneficial for describing curvilinear relationships what is a curvilinear relationship it's what you get by squaring or setting higher order terms of the predictor variables in the model transforming the data the model can be quadratic which means the predictor variable in the model is squared we use a bracket to indicated as an exponent this is the second order polynomial regression with a figure representing the function \",\n",
       "     'confidence': 0.95}]},\n",
       "  {'final': True,\n",
       "   'alternatives': [{'transcript': 'the model can be cubic which means the predictor variable is cute this is the third order polynomial regression we see by examining the figure that the function has more variation ',\n",
       "     'confidence': 0.95}]},\n",
       "  {'final': True,\n",
       "   'alternatives': [{'transcript': \"there also exists higher order polynomial regressions when a good fit hasn't been achieved by second or third order we can see in figures how much the graphs change when we change the order of the polynomial regression the degree of the regression makes a big difference and can result in a better fit if you pick the right value in all cases the relationship between the variable in the parameter is always linear \",\n",
       "     'confidence': 0.91}]},\n",
       "  {'final': True,\n",
       "   'alternatives': [{'transcript': \"let's look at an example from our data we generate a polynomial regression model \",\n",
       "     'confidence': 0.89}]},\n",
       "  {'final': True,\n",
       "   'alternatives': [{'transcript': 'in python we do this by using the poly fit function in this example we develop a third order polynomial regression model base we can print out the model symbolic form for the model is given by the following expression ',\n",
       "     'confidence': 0.92}]},\n",
       "  {'final': True,\n",
       "   'alternatives': [{'transcript': \"negative one point five five seven X. one cute plus two hundred four point eight X. one squared plus eight thousand nine hundred sixty five X. one plus one point three seven times ten to the power of five we can also have multi dimensional polynomial linear regression the expression can get complicated here are just some of the terms for two dimensional second order polynomial none pies poly fit function cannot perform this type of regression we use the preprocessing librarian scikit learn to create a polynomial feature object the constructor takes the degree of the polynomial as a parameter then we transform the features into a polynomial feature with the fit underscore transform method let's do a more intuitive example \",\n",
       "     'confidence': 0.9}]},\n",
       "  {'final': True,\n",
       "   'alternatives': [{'transcript': 'consider the feature shown here applying the method we transform the data we now have a new set of features that are transformed version of our original features as that I mention of the data gets larger we may want to normalize multiple features as scikit learn instead we can use the preprocessing module to simplify many tasks for example we can standardize each feature simultaneously we import standard scaler we train the object fit the scale object then transform the data into a new data frame on a rate X. underscore scale there are more normalization methods available in the pre processing library as well as other transformations we can simplify our code by using a pipeline library there are many steps to getting a prediction for example normalization polynomial transform and linear regression we simplify the process using a pipeline ',\n",
       "     'confidence': 0.9}]},\n",
       "  {'final': True,\n",
       "   'alternatives': [{'transcript': 'pipeline sequentially perform a series of transformations the last step carries out a prediction first we import all the modules we need then we import the library pipeline we create a list of topples the first element in the topple contains the name of the estimator model the second element contains model constructor we input the list in the pipeline constructor we now have a pipeline object we can train the pipeline by applying the train method to the pipeline object we can also produce a prediction as well ',\n",
       "     'confidence': 0.89}]},\n",
       "  {'final': True,\n",
       "   'alternatives': [{'transcript': 'the method normalizes the data performs a polynomial transform then outputs a prediction ',\n",
       "     'confidence': 0.88}]}]}"
      ]
     },
     "execution_count": 9,
     "metadata": {},
     "output_type": "execute_result"
    }
   ],
   "source": [
    "#The attribute result contains a dictionary that includes the translation:\n",
    "\n",
    "response.result"
   ]
  },
  {
   "cell_type": "code",
   "execution_count": 10,
   "id": "6a6b67fa-51f7-4cc9-a50b-c3cedcde95af",
   "metadata": {},
   "outputs": [
    {
     "data": {
      "text/html": [
       "<div>\n",
       "<style scoped>\n",
       "    .dataframe tbody tr th:only-of-type {\n",
       "        vertical-align: middle;\n",
       "    }\n",
       "\n",
       "    .dataframe tbody tr th {\n",
       "        vertical-align: top;\n",
       "    }\n",
       "\n",
       "    .dataframe thead th {\n",
       "        text-align: right;\n",
       "    }\n",
       "</style>\n",
       "<table border=\"1\" class=\"dataframe\">\n",
       "  <thead>\n",
       "    <tr style=\"text-align: right;\">\n",
       "      <th></th>\n",
       "      <th>transcript</th>\n",
       "      <th>confidence</th>\n",
       "    </tr>\n",
       "  </thead>\n",
       "  <tbody>\n",
       "    <tr>\n",
       "      <th>0</th>\n",
       "      <td>in this video we will cover polynomial regress...</td>\n",
       "      <td>0.94</td>\n",
       "    </tr>\n",
       "    <tr>\n",
       "      <th>1</th>\n",
       "      <td>what do we do when a linear model is not the b...</td>\n",
       "      <td>0.90</td>\n",
       "    </tr>\n",
       "    <tr>\n",
       "      <th>2</th>\n",
       "      <td>polynomial regression is a special case of the...</td>\n",
       "      <td>0.95</td>\n",
       "    </tr>\n",
       "    <tr>\n",
       "      <th>3</th>\n",
       "      <td>the model can be cubic which means the predict...</td>\n",
       "      <td>0.95</td>\n",
       "    </tr>\n",
       "    <tr>\n",
       "      <th>4</th>\n",
       "      <td>there also exists higher order polynomial regr...</td>\n",
       "      <td>0.91</td>\n",
       "    </tr>\n",
       "    <tr>\n",
       "      <th>5</th>\n",
       "      <td>let's look at an example from our data we gene...</td>\n",
       "      <td>0.89</td>\n",
       "    </tr>\n",
       "    <tr>\n",
       "      <th>6</th>\n",
       "      <td>in python we do this by using the poly fit fun...</td>\n",
       "      <td>0.92</td>\n",
       "    </tr>\n",
       "    <tr>\n",
       "      <th>7</th>\n",
       "      <td>negative one point five five seven X. one cute...</td>\n",
       "      <td>0.90</td>\n",
       "    </tr>\n",
       "    <tr>\n",
       "      <th>8</th>\n",
       "      <td>consider the feature shown here applying the m...</td>\n",
       "      <td>0.90</td>\n",
       "    </tr>\n",
       "    <tr>\n",
       "      <th>9</th>\n",
       "      <td>pipeline sequentially perform a series of tran...</td>\n",
       "      <td>0.89</td>\n",
       "    </tr>\n",
       "    <tr>\n",
       "      <th>10</th>\n",
       "      <td>the method normalizes the data performs a poly...</td>\n",
       "      <td>0.88</td>\n",
       "    </tr>\n",
       "  </tbody>\n",
       "</table>\n",
       "</div>"
      ],
      "text/plain": [
       "                                           transcript  confidence\n",
       "0   in this video we will cover polynomial regress...        0.94\n",
       "1   what do we do when a linear model is not the b...        0.90\n",
       "2   polynomial regression is a special case of the...        0.95\n",
       "3   the model can be cubic which means the predict...        0.95\n",
       "4   there also exists higher order polynomial regr...        0.91\n",
       "5   let's look at an example from our data we gene...        0.89\n",
       "6   in python we do this by using the poly fit fun...        0.92\n",
       "7   negative one point five five seven X. one cute...        0.90\n",
       "8   consider the feature shown here applying the m...        0.90\n",
       "9   pipeline sequentially perform a series of tran...        0.89\n",
       "10  the method normalizes the data performs a poly...        0.88"
      ]
     },
     "execution_count": 10,
     "metadata": {},
     "output_type": "execute_result"
    }
   ],
   "source": [
    "from pandas import json_normalize\n",
    "\n",
    "json_normalize(response.result['results'],\"alternatives\")"
   ]
  },
  {
   "cell_type": "code",
   "execution_count": 11,
   "id": "f6bd9f3c-9e8f-47ba-8cab-c1b5268ca38d",
   "metadata": {},
   "outputs": [
    {
     "data": {
      "text/plain": [
       "<ibm_cloud_sdk_core.detailed_response.DetailedResponse at 0x7f0f7839f810>"
      ]
     },
     "execution_count": 11,
     "metadata": {},
     "output_type": "execute_result"
    }
   ],
   "source": [
    "response"
   ]
  },
  {
   "cell_type": "code",
   "execution_count": 12,
   "id": "5759335b-bc63-4555-993d-af3ff35f287c",
   "metadata": {},
   "outputs": [
    {
     "data": {
      "text/plain": [
       "str"
      ]
     },
     "execution_count": 12,
     "metadata": {},
     "output_type": "execute_result"
    }
   ],
   "source": [
    "recognized_text=response.result['results'][0][\"alternatives\"][0][\"transcript\"]\n",
    "type(recognized_text)"
   ]
  },
  {
   "cell_type": "code",
   "execution_count": 13,
   "id": "49b6e050-6983-45e5-82ed-d2d8232bc155",
   "metadata": {},
   "outputs": [],
   "source": [
    "#language translator\n",
    "\n",
    "from ibm_watson import LanguageTranslatorV3"
   ]
  },
  {
   "cell_type": "code",
   "execution_count": 14,
   "id": "119a9fcc-9eea-4729-818e-ee08d5b8b4b5",
   "metadata": {},
   "outputs": [],
   "source": [
    "url_lt='https://api.us-south.language-translator.watson.cloud.ibm.com/instances/41bcf3ce-8a3b-4807-a372-df3f48640a4b'"
   ]
  },
  {
   "cell_type": "code",
   "execution_count": 15,
   "id": "d7e84461-d231-43de-86b1-837d7a477553",
   "metadata": {},
   "outputs": [],
   "source": [
    "apikey_lt='U-gc2yImtZl-qhGXMVy8ypAS5Xn6QFT2YqJOgg2wVCnN'"
   ]
  },
  {
   "cell_type": "code",
   "execution_count": 16,
   "id": "91c67507-4ba1-4729-8bc6-ba1cb3fdde9a",
   "metadata": {},
   "outputs": [],
   "source": [
    "#API requests require a version parameter that takes a date in the format version=YYYY-MM-DD. This lab describes the current version of Language Translator, 2018-05-01\n",
    "\n",
    "version_lt='2018-05-01'"
   ]
  },
  {
   "cell_type": "code",
   "execution_count": 17,
   "id": "a578ae94-6dd2-492a-954b-acd89408cb1b",
   "metadata": {},
   "outputs": [
    {
     "data": {
      "text/plain": [
       "<ibm_watson.language_translator_v3.LanguageTranslatorV3 at 0x7f0f411efc10>"
      ]
     },
     "execution_count": 17,
     "metadata": {},
     "output_type": "execute_result"
    }
   ],
   "source": [
    "#we create a Language Translator object language_translator:\n",
    "\n",
    "authenticator = IAMAuthenticator(apikey_lt)\n",
    "language_translator = LanguageTranslatorV3(version=version_lt,authenticator=authenticator)\n",
    "language_translator.set_service_url(url_lt)\n",
    "language_translator"
   ]
  },
  {
   "cell_type": "code",
   "execution_count": 18,
   "id": "3d178518-e0cd-4038-8516-11477d54b2ba",
   "metadata": {},
   "outputs": [
    {
     "data": {
      "text/html": [
       "<div>\n",
       "<style scoped>\n",
       "    .dataframe tbody tr th:only-of-type {\n",
       "        vertical-align: middle;\n",
       "    }\n",
       "\n",
       "    .dataframe tbody tr th {\n",
       "        vertical-align: top;\n",
       "    }\n",
       "\n",
       "    .dataframe thead th {\n",
       "        text-align: right;\n",
       "    }\n",
       "</style>\n",
       "<table border=\"1\" class=\"dataframe\">\n",
       "  <thead>\n",
       "    <tr style=\"text-align: right;\">\n",
       "      <th></th>\n",
       "      <th>language</th>\n",
       "      <th>name</th>\n",
       "    </tr>\n",
       "  </thead>\n",
       "  <tbody>\n",
       "    <tr>\n",
       "      <th>0</th>\n",
       "      <td>af</td>\n",
       "      <td>Afrikaans</td>\n",
       "    </tr>\n",
       "    <tr>\n",
       "      <th>1</th>\n",
       "      <td>ar</td>\n",
       "      <td>Arabic</td>\n",
       "    </tr>\n",
       "    <tr>\n",
       "      <th>2</th>\n",
       "      <td>az</td>\n",
       "      <td>Azerbaijani</td>\n",
       "    </tr>\n",
       "    <tr>\n",
       "      <th>3</th>\n",
       "      <td>ba</td>\n",
       "      <td>Bashkir</td>\n",
       "    </tr>\n",
       "    <tr>\n",
       "      <th>4</th>\n",
       "      <td>be</td>\n",
       "      <td>Belarusian</td>\n",
       "    </tr>\n",
       "    <tr>\n",
       "      <th>...</th>\n",
       "      <td>...</td>\n",
       "      <td>...</td>\n",
       "    </tr>\n",
       "    <tr>\n",
       "      <th>71</th>\n",
       "      <td>uk</td>\n",
       "      <td>Ukrainian</td>\n",
       "    </tr>\n",
       "    <tr>\n",
       "      <th>72</th>\n",
       "      <td>ur</td>\n",
       "      <td>Urdu</td>\n",
       "    </tr>\n",
       "    <tr>\n",
       "      <th>73</th>\n",
       "      <td>vi</td>\n",
       "      <td>Vietnamese</td>\n",
       "    </tr>\n",
       "    <tr>\n",
       "      <th>74</th>\n",
       "      <td>zh</td>\n",
       "      <td>Simplified Chinese</td>\n",
       "    </tr>\n",
       "    <tr>\n",
       "      <th>75</th>\n",
       "      <td>zh-TW</td>\n",
       "      <td>Traditional Chinese</td>\n",
       "    </tr>\n",
       "  </tbody>\n",
       "</table>\n",
       "<p>76 rows × 2 columns</p>\n",
       "</div>"
      ],
      "text/plain": [
       "   language                 name\n",
       "0        af            Afrikaans\n",
       "1        ar               Arabic\n",
       "2        az          Azerbaijani\n",
       "3        ba              Bashkir\n",
       "4        be           Belarusian\n",
       "..      ...                  ...\n",
       "71       uk            Ukrainian\n",
       "72       ur                 Urdu\n",
       "73       vi           Vietnamese\n",
       "74       zh   Simplified Chinese\n",
       "75    zh-TW  Traditional Chinese\n",
       "\n",
       "[76 rows x 2 columns]"
      ]
     },
     "execution_count": 18,
     "metadata": {},
     "output_type": "execute_result"
    }
   ],
   "source": [
    "#We can get the List of languages that the service can identify. The method Returns the language code. For example English (en) to Spanis (es) and name of each language.\n",
    "\n",
    "from pandas import json_normalize\n",
    "\n",
    "json_normalize(language_translator.list_identifiable_languages().get_result(),'languages')"
   ]
  },
  {
   "cell_type": "code",
   "execution_count": 19,
   "id": "aae012a3-a671-4a64-9ded-a24270410c24",
   "metadata": {},
   "outputs": [
    {
     "data": {
      "text/plain": [
       "<ibm_cloud_sdk_core.detailed_response.DetailedResponse at 0x7f0f411da9d0>"
      ]
     },
     "execution_count": 19,
     "metadata": {},
     "output_type": "execute_result"
    }
   ],
   "source": [
    "#We can use the method translate. This will translate the text. The parameter text is the text, Model_id is the type of model we would like to use. In this case, we set it to 'en-es' or English to Spanish. We get a Detailed Response object translation_response\n",
    "\n",
    "translation_response=language_translator.translate(text=recognized_text,model_id='en-es')\n",
    "translation_response"
   ]
  },
  {
   "cell_type": "code",
   "execution_count": 20,
   "id": "9554d3e4-b7c7-465f-9a2d-6f77f6ef8789",
   "metadata": {},
   "outputs": [
    {
     "data": {
      "text/plain": [
       "{'translations': [{'translation': 'en este vídeo cubriremos la regresión polinómica y las tuberías '}],\n",
       " 'word_count': 10,\n",
       " 'character_count': 64}"
      ]
     },
     "execution_count": 20,
     "metadata": {},
     "output_type": "execute_result"
    }
   ],
   "source": [
    "translation=translation_response.get_result()\n",
    "translation"
   ]
  },
  {
   "cell_type": "code",
   "execution_count": 21,
   "id": "e7084a6f-17c9-4de4-81bf-2a76655e6e39",
   "metadata": {},
   "outputs": [
    {
     "data": {
      "text/plain": [
       "'en este vídeo cubriremos la regresión polinómica y las tuberías '"
      ]
     },
     "execution_count": 21,
     "metadata": {},
     "output_type": "execute_result"
    }
   ],
   "source": [
    "#We can obtain the actual translation as a string as follows:\n",
    "\n",
    "spanish_translation=translation['translations'][0]['translation']\n",
    "spanish_translation"
   ]
  }
 ],
 "metadata": {
  "kernelspec": {
   "display_name": "Python",
   "language": "python",
   "name": "conda-env-python-py"
  },
  "language_info": {
   "codemirror_mode": {
    "name": "ipython",
    "version": 3
   },
   "file_extension": ".py",
   "mimetype": "text/x-python",
   "name": "python",
   "nbconvert_exporter": "python",
   "pygments_lexer": "ipython3",
   "version": "3.7.12"
  }
 },
 "nbformat": 4,
 "nbformat_minor": 5
}
